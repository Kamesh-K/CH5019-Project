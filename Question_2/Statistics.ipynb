{
 "cells": [
  {
   "cell_type": "code",
   "execution_count": 19,
   "metadata": {},
   "outputs": [],
   "source": [
    "# Importing all necessary libraries\n",
    "import pandas as pd \n",
    "import numpy as np\n",
    "import matplotlib.pyplot as plt\n",
    "%matplotlib inline\n",
    "import plotly.express as px\n",
    "import plotly.graph_objs as go\n",
    "df = pd.read_excel('Dataset_Question2.xlsx')"
   ]
  },
  {
   "cell_type": "code",
   "execution_count": 13,
   "metadata": {},
   "outputs": [
    {
     "data": {
      "text/html": [
       "<div>\n",
       "<style scoped>\n",
       "    .dataframe tbody tr th:only-of-type {\n",
       "        vertical-align: middle;\n",
       "    }\n",
       "\n",
       "    .dataframe tbody tr th {\n",
       "        vertical-align: top;\n",
       "    }\n",
       "\n",
       "    .dataframe thead th {\n",
       "        text-align: right;\n",
       "    }\n",
       "</style>\n",
       "<table border=\"1\" class=\"dataframe\">\n",
       "  <thead>\n",
       "    <tr style=\"text-align: right;\">\n",
       "      <th></th>\n",
       "      <th>Temperature</th>\n",
       "      <th>Pressure</th>\n",
       "      <th>Feed Flow rate</th>\n",
       "      <th>Coolant Flow rate</th>\n",
       "      <th>Inlet reactant concentration</th>\n",
       "      <th>Test</th>\n",
       "    </tr>\n",
       "  </thead>\n",
       "  <tbody>\n",
       "    <tr>\n",
       "      <th>0</th>\n",
       "      <td>406.86</td>\n",
       "      <td>17.66</td>\n",
       "      <td>121.83</td>\n",
       "      <td>2109.20</td>\n",
       "      <td>0.1033</td>\n",
       "      <td>Pass</td>\n",
       "    </tr>\n",
       "    <tr>\n",
       "      <th>1</th>\n",
       "      <td>693.39</td>\n",
       "      <td>24.66</td>\n",
       "      <td>133.18</td>\n",
       "      <td>3138.96</td>\n",
       "      <td>0.3785</td>\n",
       "      <td>Pass</td>\n",
       "    </tr>\n",
       "    <tr>\n",
       "      <th>2</th>\n",
       "      <td>523.10</td>\n",
       "      <td>23.23</td>\n",
       "      <td>146.55</td>\n",
       "      <td>1058.24</td>\n",
       "      <td>0.4799</td>\n",
       "      <td>Fail</td>\n",
       "    </tr>\n",
       "    <tr>\n",
       "      <th>3</th>\n",
       "      <td>612.86</td>\n",
       "      <td>40.97</td>\n",
       "      <td>94.44</td>\n",
       "      <td>1325.12</td>\n",
       "      <td>0.3147</td>\n",
       "      <td>Fail</td>\n",
       "    </tr>\n",
       "    <tr>\n",
       "      <th>4</th>\n",
       "      <td>500.28</td>\n",
       "      <td>37.44</td>\n",
       "      <td>185.48</td>\n",
       "      <td>2474.51</td>\n",
       "      <td>0.2284</td>\n",
       "      <td>Pass</td>\n",
       "    </tr>\n",
       "  </tbody>\n",
       "</table>\n",
       "</div>"
      ],
      "text/plain": [
       "   Temperature  Pressure  Feed Flow rate  Coolant Flow rate  \\\n",
       "0       406.86     17.66          121.83            2109.20   \n",
       "1       693.39     24.66          133.18            3138.96   \n",
       "2       523.10     23.23          146.55            1058.24   \n",
       "3       612.86     40.97           94.44            1325.12   \n",
       "4       500.28     37.44          185.48            2474.51   \n",
       "\n",
       "   Inlet reactant concentration  Test  \n",
       "0                        0.1033  Pass  \n",
       "1                        0.3785  Pass  \n",
       "2                        0.4799  Fail  \n",
       "3                        0.3147  Fail  \n",
       "4                        0.2284  Pass  "
      ]
     },
     "execution_count": 13,
     "metadata": {},
     "output_type": "execute_result"
    }
   ],
   "source": [
    "df.head()"
   ]
  },
  {
   "cell_type": "code",
   "execution_count": 5,
   "metadata": {},
   "outputs": [
    {
     "data": {
      "text/html": [
       "<div>\n",
       "<style scoped>\n",
       "    .dataframe tbody tr th:only-of-type {\n",
       "        vertical-align: middle;\n",
       "    }\n",
       "\n",
       "    .dataframe tbody tr th {\n",
       "        vertical-align: top;\n",
       "    }\n",
       "\n",
       "    .dataframe thead th {\n",
       "        text-align: right;\n",
       "    }\n",
       "</style>\n",
       "<table border=\"1\" class=\"dataframe\">\n",
       "  <thead>\n",
       "    <tr style=\"text-align: right;\">\n",
       "      <th></th>\n",
       "      <th>Temperature</th>\n",
       "      <th>Pressure</th>\n",
       "      <th>Feed Flow rate</th>\n",
       "      <th>Coolant Flow rate</th>\n",
       "      <th>Inlet reactant concentration</th>\n",
       "    </tr>\n",
       "  </thead>\n",
       "  <tbody>\n",
       "    <tr>\n",
       "      <th>count</th>\n",
       "      <td>1000.00000</td>\n",
       "      <td>1000.000000</td>\n",
       "      <td>1000.000000</td>\n",
       "      <td>1000.000000</td>\n",
       "      <td>1000.000000</td>\n",
       "    </tr>\n",
       "    <tr>\n",
       "      <th>mean</th>\n",
       "      <td>546.76643</td>\n",
       "      <td>25.493270</td>\n",
       "      <td>125.029060</td>\n",
       "      <td>2295.797770</td>\n",
       "      <td>0.302692</td>\n",
       "    </tr>\n",
       "    <tr>\n",
       "      <th>std</th>\n",
       "      <td>86.85878</td>\n",
       "      <td>14.252407</td>\n",
       "      <td>43.508159</td>\n",
       "      <td>763.680625</td>\n",
       "      <td>0.116062</td>\n",
       "    </tr>\n",
       "    <tr>\n",
       "      <th>min</th>\n",
       "      <td>400.31000</td>\n",
       "      <td>1.060000</td>\n",
       "      <td>50.030000</td>\n",
       "      <td>1002.530000</td>\n",
       "      <td>0.100300</td>\n",
       "    </tr>\n",
       "    <tr>\n",
       "      <th>25%</th>\n",
       "      <td>469.73500</td>\n",
       "      <td>12.725000</td>\n",
       "      <td>88.587500</td>\n",
       "      <td>1635.682500</td>\n",
       "      <td>0.199075</td>\n",
       "    </tr>\n",
       "    <tr>\n",
       "      <th>50%</th>\n",
       "      <td>545.80000</td>\n",
       "      <td>25.375000</td>\n",
       "      <td>124.590000</td>\n",
       "      <td>2268.710000</td>\n",
       "      <td>0.308850</td>\n",
       "    </tr>\n",
       "    <tr>\n",
       "      <th>75%</th>\n",
       "      <td>618.87750</td>\n",
       "      <td>37.820000</td>\n",
       "      <td>162.562500</td>\n",
       "      <td>2983.692500</td>\n",
       "      <td>0.401625</td>\n",
       "    </tr>\n",
       "    <tr>\n",
       "      <th>max</th>\n",
       "      <td>699.87000</td>\n",
       "      <td>49.890000</td>\n",
       "      <td>199.960000</td>\n",
       "      <td>3595.620000</td>\n",
       "      <td>0.499600</td>\n",
       "    </tr>\n",
       "  </tbody>\n",
       "</table>\n",
       "</div>"
      ],
      "text/plain": [
       "       Temperature     Pressure  Feed Flow rate  Coolant Flow rate  \\\n",
       "count   1000.00000  1000.000000     1000.000000        1000.000000   \n",
       "mean     546.76643    25.493270      125.029060        2295.797770   \n",
       "std       86.85878    14.252407       43.508159         763.680625   \n",
       "min      400.31000     1.060000       50.030000        1002.530000   \n",
       "25%      469.73500    12.725000       88.587500        1635.682500   \n",
       "50%      545.80000    25.375000      124.590000        2268.710000   \n",
       "75%      618.87750    37.820000      162.562500        2983.692500   \n",
       "max      699.87000    49.890000      199.960000        3595.620000   \n",
       "\n",
       "       Inlet reactant concentration  \n",
       "count                   1000.000000  \n",
       "mean                       0.302692  \n",
       "std                        0.116062  \n",
       "min                        0.100300  \n",
       "25%                        0.199075  \n",
       "50%                        0.308850  \n",
       "75%                        0.401625  \n",
       "max                        0.499600  "
      ]
     },
     "execution_count": 5,
     "metadata": {},
     "output_type": "execute_result"
    }
   ],
   "source": [
    "df.describe()"
   ]
  },
  {
   "cell_type": "code",
   "execution_count": 15,
   "metadata": {},
   "outputs": [],
   "source": [
    "PassTest = df[df['Test']=='Pass']\n",
    "FailTest = df[df['Test']=='Fail']"
   ]
  },
  {
   "cell_type": "code",
   "execution_count": 30,
   "metadata": {},
   "outputs": [
    {
     "data": {
      "text/html": [
       "<div>\n",
       "<style scoped>\n",
       "    .dataframe tbody tr th:only-of-type {\n",
       "        vertical-align: middle;\n",
       "    }\n",
       "\n",
       "    .dataframe tbody tr th {\n",
       "        vertical-align: top;\n",
       "    }\n",
       "\n",
       "    .dataframe thead th {\n",
       "        text-align: right;\n",
       "    }\n",
       "</style>\n",
       "<table border=\"1\" class=\"dataframe\">\n",
       "  <thead>\n",
       "    <tr style=\"text-align: right;\">\n",
       "      <th></th>\n",
       "      <th>Temperature</th>\n",
       "      <th>Pressure</th>\n",
       "      <th>Feed Flow rate</th>\n",
       "      <th>Coolant Flow rate</th>\n",
       "      <th>Inlet reactant concentration</th>\n",
       "    </tr>\n",
       "  </thead>\n",
       "  <tbody>\n",
       "    <tr>\n",
       "      <th>count</th>\n",
       "      <td>415.000000</td>\n",
       "      <td>415.000000</td>\n",
       "      <td>415.000000</td>\n",
       "      <td>415.000000</td>\n",
       "      <td>415.000000</td>\n",
       "    </tr>\n",
       "    <tr>\n",
       "      <th>mean</th>\n",
       "      <td>547.634964</td>\n",
       "      <td>26.320747</td>\n",
       "      <td>129.829783</td>\n",
       "      <td>1605.060819</td>\n",
       "      <td>0.301568</td>\n",
       "    </tr>\n",
       "    <tr>\n",
       "      <th>std</th>\n",
       "      <td>87.555359</td>\n",
       "      <td>14.243827</td>\n",
       "      <td>42.367161</td>\n",
       "      <td>442.049908</td>\n",
       "      <td>0.116852</td>\n",
       "    </tr>\n",
       "    <tr>\n",
       "      <th>min</th>\n",
       "      <td>400.310000</td>\n",
       "      <td>1.190000</td>\n",
       "      <td>50.110000</td>\n",
       "      <td>1002.530000</td>\n",
       "      <td>0.104700</td>\n",
       "    </tr>\n",
       "    <tr>\n",
       "      <th>25%</th>\n",
       "      <td>470.295000</td>\n",
       "      <td>14.370000</td>\n",
       "      <td>92.925000</td>\n",
       "      <td>1246.415000</td>\n",
       "      <td>0.200750</td>\n",
       "    </tr>\n",
       "    <tr>\n",
       "      <th>50%</th>\n",
       "      <td>547.380000</td>\n",
       "      <td>25.800000</td>\n",
       "      <td>134.650000</td>\n",
       "      <td>1557.140000</td>\n",
       "      <td>0.304400</td>\n",
       "    </tr>\n",
       "    <tr>\n",
       "      <th>75%</th>\n",
       "      <td>618.400000</td>\n",
       "      <td>39.185000</td>\n",
       "      <td>164.720000</td>\n",
       "      <td>1846.395000</td>\n",
       "      <td>0.400900</td>\n",
       "    </tr>\n",
       "    <tr>\n",
       "      <th>max</th>\n",
       "      <td>698.880000</td>\n",
       "      <td>49.790000</td>\n",
       "      <td>199.320000</td>\n",
       "      <td>3587.690000</td>\n",
       "      <td>0.498800</td>\n",
       "    </tr>\n",
       "  </tbody>\n",
       "</table>\n",
       "</div>"
      ],
      "text/plain": [
       "       Temperature    Pressure  Feed Flow rate  Coolant Flow rate  \\\n",
       "count   415.000000  415.000000      415.000000         415.000000   \n",
       "mean    547.634964   26.320747      129.829783        1605.060819   \n",
       "std      87.555359   14.243827       42.367161         442.049908   \n",
       "min     400.310000    1.190000       50.110000        1002.530000   \n",
       "25%     470.295000   14.370000       92.925000        1246.415000   \n",
       "50%     547.380000   25.800000      134.650000        1557.140000   \n",
       "75%     618.400000   39.185000      164.720000        1846.395000   \n",
       "max     698.880000   49.790000      199.320000        3587.690000   \n",
       "\n",
       "       Inlet reactant concentration  \n",
       "count                    415.000000  \n",
       "mean                       0.301568  \n",
       "std                        0.116852  \n",
       "min                        0.104700  \n",
       "25%                        0.200750  \n",
       "50%                        0.304400  \n",
       "75%                        0.400900  \n",
       "max                        0.498800  "
      ]
     },
     "execution_count": 30,
     "metadata": {},
     "output_type": "execute_result"
    }
   ],
   "source": [
    "FailTest.describe()"
   ]
  },
  {
   "cell_type": "code",
   "execution_count": 31,
   "metadata": {},
   "outputs": [
    {
     "data": {
      "text/html": [
       "<div>\n",
       "<style scoped>\n",
       "    .dataframe tbody tr th:only-of-type {\n",
       "        vertical-align: middle;\n",
       "    }\n",
       "\n",
       "    .dataframe tbody tr th {\n",
       "        vertical-align: top;\n",
       "    }\n",
       "\n",
       "    .dataframe thead th {\n",
       "        text-align: right;\n",
       "    }\n",
       "</style>\n",
       "<table border=\"1\" class=\"dataframe\">\n",
       "  <thead>\n",
       "    <tr style=\"text-align: right;\">\n",
       "      <th></th>\n",
       "      <th>Temperature</th>\n",
       "      <th>Pressure</th>\n",
       "      <th>Feed Flow rate</th>\n",
       "      <th>Coolant Flow rate</th>\n",
       "      <th>Inlet reactant concentration</th>\n",
       "    </tr>\n",
       "  </thead>\n",
       "  <tbody>\n",
       "    <tr>\n",
       "      <th>count</th>\n",
       "      <td>585.000000</td>\n",
       "      <td>585.000000</td>\n",
       "      <td>585.000000</td>\n",
       "      <td>585.000000</td>\n",
       "      <td>585.000000</td>\n",
       "    </tr>\n",
       "    <tr>\n",
       "      <th>mean</th>\n",
       "      <td>546.150291</td>\n",
       "      <td>24.906256</td>\n",
       "      <td>121.623419</td>\n",
       "      <td>2785.807744</td>\n",
       "      <td>0.303489</td>\n",
       "    </tr>\n",
       "    <tr>\n",
       "      <th>std</th>\n",
       "      <td>86.431031</td>\n",
       "      <td>14.241507</td>\n",
       "      <td>44.018933</td>\n",
       "      <td>528.726067</td>\n",
       "      <td>0.115592</td>\n",
       "    </tr>\n",
       "    <tr>\n",
       "      <th>min</th>\n",
       "      <td>400.630000</td>\n",
       "      <td>1.060000</td>\n",
       "      <td>50.030000</td>\n",
       "      <td>1006.650000</td>\n",
       "      <td>0.100300</td>\n",
       "    </tr>\n",
       "    <tr>\n",
       "      <th>25%</th>\n",
       "      <td>469.060000</td>\n",
       "      <td>11.510000</td>\n",
       "      <td>84.500000</td>\n",
       "      <td>2365.590000</td>\n",
       "      <td>0.198900</td>\n",
       "    </tr>\n",
       "    <tr>\n",
       "      <th>50%</th>\n",
       "      <td>543.220000</td>\n",
       "      <td>24.710000</td>\n",
       "      <td>116.170000</td>\n",
       "      <td>2828.230000</td>\n",
       "      <td>0.313000</td>\n",
       "    </tr>\n",
       "    <tr>\n",
       "      <th>75%</th>\n",
       "      <td>619.560000</td>\n",
       "      <td>37.380000</td>\n",
       "      <td>160.230000</td>\n",
       "      <td>3238.550000</td>\n",
       "      <td>0.403000</td>\n",
       "    </tr>\n",
       "    <tr>\n",
       "      <th>max</th>\n",
       "      <td>699.870000</td>\n",
       "      <td>49.890000</td>\n",
       "      <td>199.960000</td>\n",
       "      <td>3595.620000</td>\n",
       "      <td>0.499600</td>\n",
       "    </tr>\n",
       "  </tbody>\n",
       "</table>\n",
       "</div>"
      ],
      "text/plain": [
       "       Temperature    Pressure  Feed Flow rate  Coolant Flow rate  \\\n",
       "count   585.000000  585.000000      585.000000         585.000000   \n",
       "mean    546.150291   24.906256      121.623419        2785.807744   \n",
       "std      86.431031   14.241507       44.018933         528.726067   \n",
       "min     400.630000    1.060000       50.030000        1006.650000   \n",
       "25%     469.060000   11.510000       84.500000        2365.590000   \n",
       "50%     543.220000   24.710000      116.170000        2828.230000   \n",
       "75%     619.560000   37.380000      160.230000        3238.550000   \n",
       "max     699.870000   49.890000      199.960000        3595.620000   \n",
       "\n",
       "       Inlet reactant concentration  \n",
       "count                    585.000000  \n",
       "mean                       0.303489  \n",
       "std                        0.115592  \n",
       "min                        0.100300  \n",
       "25%                        0.198900  \n",
       "50%                        0.313000  \n",
       "75%                        0.403000  \n",
       "max                        0.499600  "
      ]
     },
     "execution_count": 31,
     "metadata": {},
     "output_type": "execute_result"
    }
   ],
   "source": [
    "PassTest.describe()"
   ]
  },
  {
   "cell_type": "code",
   "execution_count": 25,
   "metadata": {},
   "outputs": [
    {
     "data": {
      "image/png": "[encoded data removed]",
      "text/plain": [
       "<Figure size 432x288 with 1 Axes>"
      ]
     },
     "metadata": {
      "needs_background": "light"
     },
     "output_type": "display_data"
    }
   ],
   "source": [
    "# Coolant Flow Rate Analysis  \n",
    "bins = np.linspace(min(df['Coolant Flow rate']), max(df['Coolant Flow rate']), 100)\n",
    "plt.hist(PassTest['Coolant Flow rate'], bins, alpha=0.5, label='Pass')\n",
    "plt.hist(FailTest['Coolant Flow rate'], bins, alpha=0.5, label='Fail')\n",
    "plt.legend(loc='upper right')\n",
    "plt.title('Coolant Flow rate analysis for pass and fail')\n",
    "plt.show()"
   ]
  },
  {
   "cell_type": "code",
   "execution_count": 33,
   "metadata": {},
   "outputs": [
    {
     "data": {
      "image/png": "[encoded data removed]",
      "text/plain": [
       "<Figure size 432x288 with 1 Axes>"
      ]
     },
     "metadata": {
      "needs_background": "light"
     },
     "output_type": "display_data"
    }
   ],
   "source": [
    "# Pressure Analysis  \n",
    "bins = np.linspace(min(df['Pressure']), max(df['Pressure']), 100)\n",
    "plt.hist(PassTest['Pressure'], bins, alpha=0.5, label='Pass')\n",
    "plt.hist(FailTest['Pressure'], bins, alpha=0.5, label='Fail')\n",
    "plt.legend(loc='upper right')\n",
    "plt.title('Pressure analysis for pass and fail')\n",
    "plt.show()"
   ]
  },
  {
   "cell_type": "code",
   "execution_count": 34,
   "metadata": {},
   "outputs": [
    {
     "data": {
      "image/png": "[encoded data removed]",
      "text/plain": [
       "<Figure size 432x288 with 1 Axes>"
      ]
     },
     "metadata": {
      "needs_background": "light"
     },
     "output_type": "display_data"
    }
   ],
   "source": [
    "# Feed Flow rate Analysis  \n",
    "bins = np.linspace(min(df['Feed Flow rate']), max(df['Feed Flow rate']), 100)\n",
    "plt.hist(PassTest['Feed Flow rate'], bins, alpha=0.5, label='Pass')\n",
    "plt.hist(FailTest['Feed Flow rate'], bins, alpha=0.5, label='Fail')\n",
    "plt.legend(loc='upper right')\n",
    "plt.title('Feed Flow rate analysis for pass and fail')\n",
    "plt.show()"
   ]
  },
  {
   "cell_type": "code",
   "execution_count": 35,
   "metadata": {},
   "outputs": [
    {
     "data": {
      "image/png": "[encoded data removed]",
      "text/plain": [
       "<Figure size 432x288 with 1 Axes>"
      ]
     },
     "metadata": {
      "needs_background": "light"
     },
     "output_type": "display_data"
    }
   ],
   "source": [
    "# Inlet reactant concentration Analysis  \n",
    "bins = np.linspace(min(df['Inlet reactant concentration']), max(df['Inlet reactant concentration']), 100)\n",
    "plt.hist(PassTest['Inlet reactant concentration'], bins, alpha=0.5, label='Pass')\n",
    "plt.hist(FailTest['Inlet reactant concentration'], bins, alpha=0.5, label='Fail')\n",
    "plt.legend(loc='upper right')\n",
    "plt.title('Inlet reactant concentration analysis for pass and fail')\n",
    "plt.show()"
   ]
  },
  {
   "cell_type": "code",
   "execution_count": 36,
   "metadata": {},
   "outputs": [
    {
     "data": {
      "image/png": "[encoded data removed]",
      "text/plain": [
       "<Figure size 432x288 with 1 Axes>"
      ]
     },
     "metadata": {
      "needs_background": "light"
     },
     "output_type": "display_data"
    }
   ],
   "source": [
    "# Temperature Analysis  \n",
    "bins = np.linspace(min(df['Temperature']), max(df['Temperature']), 100)\n",
    "plt.hist(PassTest['Temperature'], bins, alpha=0.5, label='Pass')\n",
    "plt.hist(FailTest['Temperature'], bins, alpha=0.5, label='Fail')\n",
    "plt.legend(loc='upper right')\n",
    "plt.title('Temperature analysis for pass and fail')\n",
    "plt.show()"
   ]
  }
 ],
 "metadata": {
  "kernelspec": {
   "display_name": "Python ML",
   "language": "python",
   "name": "ml"
  },
  "language_info": {
   "codemirror_mode": {
    "name": "ipython",
    "version": 3
   },
   "file_extension": ".py",
   "mimetype": "text/x-python",
   "name": "python",
   "nbconvert_exporter": "python",
   "pygments_lexer": "ipython3",
   "version": "3.7.7"
  }
 },
 "nbformat": 4,
 "nbformat_minor": 4
}
