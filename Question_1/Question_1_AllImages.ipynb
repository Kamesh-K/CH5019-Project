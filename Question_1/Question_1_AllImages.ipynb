{
 "cells": [
  {
   "cell_type": "code",
   "execution_count": 1,
   "metadata": {},
   "outputs": [],
   "source": [
    "import numpy as np\n",
    "import os\n",
    "import glob\n",
    "import matplotlib.pyplot as plt\n",
    "import cv2\n",
    "%matplotlib inline"
   ]
  },
  {
   "cell_type": "code",
   "execution_count": 2,
   "metadata": {},
   "outputs": [
    {
     "name": "stdout",
     "output_type": "stream",
     "text": [
      "(4096, 150)\n",
      "64\n",
      "64\n"
     ]
    }
   ],
   "source": [
    "pwd = os.getcwd()\n",
    "data_wd = pwd+\"/Dataset_Question1/\"\n",
    "batch_size = 10 \n",
    "total_people = 15\n",
    "total_images = batch_size*total_people\n",
    "d1 = 64\n",
    "d2 = 64\n",
    "F = np.zeros((d1, d2, total_images))\n",
    "for batch in range(total_people):\n",
    "    os.chdir(data_wd+str(batch+1))\n",
    "    names = sorted(glob.glob(\"*.pgm\"))\n",
    "    names = sorted(names,key=lambda x: int(os.path.splitext(x)[0]))\n",
    "    d1, d2 = plt.imread(names[0]).shape\n",
    "    num = len(names)\n",
    "    for n, i in enumerate(names):\n",
    "        F[:, :, batch*batch_size+n] = cv2.resize((cv2.imread(i,0).astype(np.double)) / 255., (d1, d2))\n",
    "    os.chdir(pwd)\n",
    "F = F.reshape(d1 * d2, batch_size * total_people)\n",
    "clip = 10\n",
    "print(F.shape)\n",
    "print(d1)\n",
    "print(d2)\n",
    "os.chdir(pwd)\n"
   ]
  },
  {
   "cell_type": "code",
   "execution_count": 3,
   "metadata": {},
   "outputs": [],
   "source": [
    "F_average = np.zeros(d1*d2)\n",
    "F_average = np.mean(F,axis=1)\n",
    "A = np.zeros((d1*d2,total_images))\n",
    "for i in range(total_images):\n",
    "    A[:,i] = F[:,i] -F_average[:] "
   ]
  },
  {
   "cell_type": "code",
   "execution_count": 4,
   "metadata": {},
   "outputs": [],
   "source": [
    "u, s, vh = np.linalg.svd(A, full_matrices=True)"
   ]
  },
  {
   "cell_type": "code",
   "execution_count": 5,
   "metadata": {},
   "outputs": [],
   "source": [
    "U_selected = u"
   ]
  },
  {
   "cell_type": "code",
   "execution_count": 6,
   "metadata": {},
   "outputs": [],
   "source": [
    "def show_fig(image):\n",
    "    plt.figure()\n",
    "    plt.imshow(np.reshape(image,(d1,d2)))"
   ]
  },
  {
   "cell_type": "code",
   "execution_count": 7,
   "metadata": {},
   "outputs": [
    {
     "data": {
      "image/png": "[encoded data removed]",
      "text/plain": [
       "<Figure size 432x288 with 1 Axes>"
      ]
     },
     "metadata": {
      "needs_background": "light"
     },
     "output_type": "display_data"
    }
   ],
   "source": [
    "# Having a look at the average face\n",
    "show_fig(F_average)"
   ]
  },
  {
   "cell_type": "code",
   "execution_count": 8,
   "metadata": {},
   "outputs": [],
   "source": [
    "U_selected = np.transpose(u)"
   ]
  },
  {
   "cell_type": "code",
   "execution_count": 9,
   "metadata": {},
   "outputs": [],
   "source": [
    "err_arr = []\n",
    "RepresentativeImages = np.zeros((d1*d2,total_people))\n",
    "for people in range(total_people):\n",
    "    err_arr = []\n",
    "    for batch in range(batch_size):\n",
    "        error = np.linalg.norm(np.dot(U_selected,F[:,batch+people*batch_size]-F_average))\n",
    "        err_arr.append(error)\n",
    "    min_error_indx = err_arr.index(min(err_arr))\n",
    "    RepresentativeImages[:,people] = F[:,min_error_indx + people*batch_size]-F_average"
   ]
  },
  {
   "cell_type": "code",
   "execution_count": 10,
   "metadata": {},
   "outputs": [
    {
     "data": {
      "text/plain": [
       "(4096, 15)"
      ]
     },
     "execution_count": 10,
     "metadata": {},
     "output_type": "execute_result"
    }
   ],
   "source": [
    "X = np.dot(U_selected,RepresentativeImages)\n",
    "X.shape"
   ]
  },
  {
   "cell_type": "code",
   "execution_count": 11,
   "metadata": {},
   "outputs": [],
   "source": [
    "def test_FaceReg(FileName):\n",
    "    test_image = cv2.resize((cv2.imread(str(FileName)+\".pgm\",0).astype(np.double)) / 255., (d1, d2))\n",
    "    #show_fig(test_image)\n",
    "    test_image = np.reshape(test_image,(d1*d2))\n",
    "    test_x = np.dot(U_selected,test_image-F_average)\n",
    "    err_arr = []\n",
    "    for people in range(total_people):\n",
    "        error = np.linalg.norm(test_x-X[:,people])\n",
    "        err_arr.append(error)\n",
    "    Identity = err_arr.index(min(err_arr)) + 1\n",
    "    #show_fig(RepresentativeImages[:,Identity-1])\n",
    "    return Identity"
   ]
  },
  {
   "cell_type": "code",
   "execution_count": 12,
   "metadata": {},
   "outputs": [
    {
     "data": {
      "text/plain": [
       "array([ 1,  6,  1,  6,  6,  1,  1,  1,  6,  6,  2,  2,  2,  2,  2,  2,  2,\n",
       "        2,  2,  2,  3,  3,  3,  3,  3,  3,  3,  3,  3,  3,  4,  4,  4,  4,\n",
       "        4,  4,  4,  4,  4,  4,  5,  5,  5,  9,  9,  5,  5,  9,  5,  5,  6,\n",
       "        6,  6,  6,  6,  6,  6,  6,  6,  6,  9,  7,  9,  9,  7,  9,  7,  7,\n",
       "        7,  7,  8,  8,  8,  6,  6,  9,  8,  1,  1,  8, 13, 12,  6,  9,  9,\n",
       "        6,  9,  9,  9,  9, 10, 10, 10, 10, 10, 10, 10, 10, 10, 10, 11, 11,\n",
       "       11, 11, 11, 11, 11, 11, 11, 11,  7, 12,  7, 12, 15, 12, 12, 12, 15,\n",
       "       15,  2,  2,  2,  2,  2, 13, 13,  2, 13, 13, 14, 14, 14, 14, 14, 14,\n",
       "       14, 14, 14, 14, 15, 15, 15, 15, 15, 10, 15, 15, 15, 15])"
      ]
     },
     "execution_count": 12,
     "metadata": {},
     "output_type": "execute_result"
    }
   ],
   "source": [
    "Predictions = []\n",
    "for people in range(total_people):\n",
    "    os.chdir(data_wd+str(people+1))\n",
    "    for batch in range(batch_size):\n",
    "        Predictions.append(test_FaceReg(str(batch+1)))\n",
    "np.asarray(Predictions)"
   ]
  },
  {
   "cell_type": "code",
   "execution_count": 13,
   "metadata": {},
   "outputs": [
    {
     "data": {
      "image/png": "[encoded data removed]",
      "text/plain": [
       "<Figure size 432x288 with 1 Axes>"
      ]
     },
     "metadata": {
      "needs_background": "light"
     },
     "output_type": "display_data"
    }
   ],
   "source": [
    "show_fig(F[:,84])"
   ]
  },
  {
   "cell_type": "code",
   "execution_count": 14,
   "metadata": {},
   "outputs": [
    {
     "name": "stdout",
     "output_type": "stream",
     "text": [
      "6\n"
     ]
    }
   ],
   "source": [
    "test_image = (F[:,1])\n",
    "#show_fig(test_image)\n",
    "test_image = np.reshape(test_image,(d1*d2))\n",
    "test_x = np.dot(U_selected,test_image-F_average)\n",
    "err_arr = []\n",
    "for people in range(total_people):\n",
    "    error = np.linalg.norm(test_x-X[:,people])\n",
    "    err_arr.append(error)\n",
    "Identity = err_arr.index(min(err_arr)) + 1\n",
    "print(Identity)"
   ]
  },
  {
   "cell_type": "code",
   "execution_count": 15,
   "metadata": {},
   "outputs": [],
   "source": [
    "Result = np.zeros((total_people, batch_size))\n",
    "for people in range(total_people):\n",
    "    Result[people,:] = people + 1\n",
    "Result = np.reshape(Result,(total_images))"
   ]
  },
  {
   "cell_type": "code",
   "execution_count": 16,
   "metadata": {},
   "outputs": [
    {
     "name": "stdout",
     "output_type": "stream",
     "text": [
      "Number of images correctly mapped out of 150 images = 117\n"
     ]
    }
   ],
   "source": [
    "Score = np.equal(Predictions,Result)\n",
    "Score = np.sum(Score)\n",
    "print(\"Number of images correctly mapped out of 150 images = {}\".format(Score))"
   ]
  }
 ],
 "metadata": {
  "kernelspec": {
   "display_name": "Python ML",
   "language": "python",
   "name": "ml"
  },
  "language_info": {
   "codemirror_mode": {
    "name": "ipython",
    "version": 3
   },
   "file_extension": ".py",
   "mimetype": "text/x-python",
   "name": "python",
   "nbconvert_exporter": "python",
   "pygments_lexer": "ipython3",
   "version": "3.7.7"
  }
 },
 "nbformat": 4,
 "nbformat_minor": 2
}
